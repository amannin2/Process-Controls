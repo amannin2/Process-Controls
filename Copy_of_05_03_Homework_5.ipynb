{
  "nbformat": 4,
  "nbformat_minor": 0,
  "metadata": {
    "colab": {
      "name": "Copy of 05.03-Homework_5.ipynb",
      "provenance": [],
      "collapsed_sections": [],
      "include_colab_link": true
    },
    "kernelspec": {
      "display_name": "Python 3",
      "language": "python",
      "name": "python3"
    },
    "language_info": {
      "codemirror_mode": {
        "name": "ipython",
        "version": 3
      },
      "file_extension": ".py",
      "mimetype": "text/x-python",
      "name": "python",
      "nbconvert_exporter": "python",
      "pygments_lexer": "ipython3",
      "version": "3.8.5"
    }
  },
  "cells": [
    {
      "cell_type": "markdown",
      "metadata": {
        "id": "view-in-github",
        "colab_type": "text"
      },
      "source": [
        "<a href=\"https://colab.research.google.com/github/amannin2/Process-Controls/blob/main/Copy_of_05_03_Homework_5.ipynb\" target=\"_parent\"><img src=\"https://colab.research.google.com/assets/colab-badge.svg\" alt=\"Open In Colab\"/></a>"
      ]
    },
    {
      "cell_type": "markdown",
      "metadata": {
        "id": "r1Kb_peX5F5E"
      },
      "source": [
        "<!--NOTEBOOK_HEADER-->\n",
        "*This notebook contains material from [cbe30338-2021](https://jckantor.github.io/cbe30338-2021);\n",
        "content is available [on Github](https://github.com/jckantor/cbe30338-2021.git).*\n"
      ]
    },
    {
      "cell_type": "markdown",
      "metadata": {
        "id": "-lg2g8UV5F5J"
      },
      "source": [
        "<!--NAVIGATION-->\n",
        "< [5.2 Linear Blending Problems](https://jckantor.github.io/cbe30338-2021/05.02-Linear-Blending-Problem.html) | [Contents](toc.html) | [Tag Index](tag_index.html) | [5.4 Gasoline Blending](https://jckantor.github.io/cbe30338-2021/05.04-Gasoline-Blending.html) ><p><a href=\"https://colab.research.google.com/github/jckantor/cbe30338-2021/blob/master/docs/05.03-Homework_5.ipynb\"> <img align=\"left\" src=\"https://colab.research.google.com/assets/colab-badge.svg\" alt=\"Open in Colab\" title=\"Open in Google Colaboratory\"></a><p><a href=\"https://jckantor.github.io/cbe30338-2021/05.03-Homework_5.ipynb\"> <img align=\"left\" src=\"https://img.shields.io/badge/Github-Download-blue.svg\" alt=\"Download\" title=\"Download Notebook\"></a>"
      ]
    },
    {
      "cell_type": "markdown",
      "metadata": {
        "id": "5jDthKd8zoSX",
        "nbpages": {
          "level": 1,
          "link": "[5.3 Homework Assignment 4](https://jckantor.github.io/cbe30338-2021/05.03-Homework_5.html#5.3-Homework-Assignment-4)",
          "section": "5.3 Homework Assignment 4"
        }
      },
      "source": [
        "# 5.3 Homework Assignment 4\n",
        "\n",
        "Homework assigment 4 is intended to develop your skills in creating linear programming models. The lecture notes (notebook 5.2) will provide with a starting point for the following exercises. The problem data has been changed to provide a more meaningful example for sensitivity analysis.\n",
        "\n",
        "\n",
        "You have been placed in charge of a metals reuse operation. A collection of raw materials are available with key parameters given in the following table.\n",
        "\n",
        "| material | % carbon (C) | % copper (Cu) | % manganese (Mn) | amount (kg) | cost (\\$/kg) | type |\n",
        "| :---: | :---: | :---: | :---: | :---: | :---: | :---\n",
        "| A | 2.5 | 0.0 | 1.3 | 4000 | 1.20 | iron alloy\n",
        "| B | 3.0 | 0.0 | 0.8 | 3000 | 1.50 | iron alloy\n",
        "| C | 0.0 | 0.3 | 0.0 | 6000 | 0.90 | iron alloy\n",
        "| D | 0.0 | 90.0 | 0.0 | 5000 | 1.30 | copper alloy\n",
        "| E | 0.0 | 96.0 | 4.0 | 2000 | 1.45 | copper alloy\n",
        "| F | 0.0 | 0.4 | 1.2 | 3000 | 1.20 | aluminum alloy\n",
        "| G | 0.0 | 0.6 | 0.0 | 2500 | 1.00 | aluminum alloy\n",
        "\n",
        "A customer has requested 5000 kg of mix satisfying these  specifications:\n",
        "\n",
        "| Component | min % | max % |\n",
        "| :---: | :---: | :---: |\n",
        "| C | 2.0 | 3.0 |\n",
        "| Cu | 0.4 | 0.6 |\n",
        "| Mn | 1.2 | 1.65 |\n",
        "\n",
        "For convenience, the raw material data has been organized as a nested dictionaries."
      ]
    },
    {
      "cell_type": "code",
      "metadata": {
        "id": "cwM6Z9es1HCJ",
        "nbpages": {
          "level": 1,
          "link": "[5.3 Homework Assignment 4](https://jckantor.github.io/cbe30338-2021/05.03-Homework_5.html#5.3-Homework-Assignment-4)",
          "section": "5.3 Homework Assignment 4"
        }
      },
      "source": [
        "data = {\n",
        "    \"A\": {\"C\": 2.5, \"Cu\": 0.0, \"Mn\": 1.3, \"amount\": 4000, \"cost\": 1.20},\n",
        "    \"B\": {\"C\": 3.0, \"Cu\": 0.0, \"Mn\": 0.8, \"amount\": 3000, \"cost\": 1.50},\n",
        "    \"C\": {\"C\": 0.0, \"Cu\": 0.3, \"Mn\": 0.0, \"amount\": 6000, \"cost\": 0.90},\n",
        "    \"D\": {\"C\": 0.0, \"Cu\": 90.0, \"Mn\": 0.0, \"amount\": 5000, \"cost\": 1.30},\n",
        "    \"E\": {\"C\": 0.0, \"Cu\": 96.0, \"Mn\": 4.0, \"amount\": 2000, \"cost\": 1.45},\n",
        "    \"F\": {\"C\": 0.0, \"Cu\": 0.4, \"Mn\": 1.2, \"amount\": 3000, \"cost\": 1.20},\n",
        "    \"G\": {\"C\": 0.0, \"Cu\": 0.6, \"Mn\": 0.0, \"amount\": 2500, \"cost\": 1.00},\n",
        "}\n",
        "\n",
        "bound_array = {\n",
        "    \"Ca\": {\"min\": 2.0, \"max\": 3.0},\n",
        "    \"Cu\": {\"min\": 0.4, \"max\": 0.6},\n",
        "    \"Mn\": {\"min\": 1.2, \"max\": 1.65}\n",
        "}"
      ],
      "execution_count": 1,
      "outputs": []
    },
    {
      "cell_type": "markdown",
      "metadata": {
        "id": "-OKFyi0htQ9I",
        "nbpages": {
          "level": 2,
          "link": "[5.3.1 Exercise 1. Getting Started](https://jckantor.github.io/cbe30338-2021/05.03-Homework_5.html#5.3.1-Exercise-1.-Getting-Started)",
          "section": "5.3.1 Exercise 1. Getting Started"
        }
      },
      "source": [
        "## 5.3.1 Exercise 1. Getting Started\n",
        "\n",
        "\n"
      ]
    },
    {
      "cell_type": "markdown",
      "metadata": {
        "id": "Pk02uJ5WmKie",
        "nbpages": {
          "level": 2,
          "link": "[5.3.1 Exercise 1. Getting Started](https://jckantor.github.io/cbe30338-2021/05.03-Homework_5.html#5.3.1-Exercise-1.-Getting-Started)",
          "section": "5.3.1 Exercise 1. Getting Started"
        }
      },
      "source": [
        "Considering just the constraint on carbon content, adapt the `brew_blend` function from notebook 5.2 to find a minimum cost blend raw materials that yield 5000 kg of product with a carbon content between 2.0 and 3.0%. For this first exercise you can ignore the bounds on the available amount of each raw material.\n",
        "\n",
        "* change the name of the function to `metal_blend`.\n",
        "* `metal_blend` should accept arguments including\n",
        "    * `data`, \n",
        "    * the required mass of final product, and\n",
        "    *  the acceptable range of carbon content specified as a pair of numbers of  `[lower_bound, upper_bound]`.\n",
        "* `metal_blend` should return the minimum cost, and the amounts of each raw material to include in the blend.\n",
        "\n",
        "Demonstrate use of `metal_blend` to compute the required blend. From the results of the calculation to report\n",
        "\n",
        "* the cost of the blend\n",
        "* the total mass of the blend\n",
        "* the mass of each raw material used in the blend\n",
        "* the composition of the blend with regard to the species carbon, copper and managanese.\n",
        "\n",
        "You may find it convenient to write a function for this purpose that can be used in the following exercise.\n",
        "\n"
      ]
    },
    {
      "cell_type": "markdown",
      "metadata": {
        "id": "_0QMFKqur4qJ",
        "nbpages": {
          "level": 3,
          "link": "[5.3.1.1 Solution](https://jckantor.github.io/cbe30338-2021/05.03-Homework_5.html#5.3.1.1-Solution)",
          "section": "5.3.1.1 Solution"
        }
      },
      "source": [
        "### 5.3.1.1 Solution"
      ]
    },
    {
      "cell_type": "code",
      "metadata": {
        "id": "C5Rf1oc1r8do",
        "nbpages": {
          "level": 3,
          "link": "[5.3.1.1 Solution](https://jckantor.github.io/cbe30338-2021/05.03-Homework_5.html#5.3.1.1-Solution)",
          "section": "5.3.1.1 Solution"
        }
      },
      "source": [
        "import numpy as np\n",
        "import cvxpy as cp\n",
        "\n",
        "def metal_blend(data, mass, bound_array):\n",
        "    \n",
        "    # Unpack bounds\n",
        "    lower_bound, upper_bound = bounds\n",
        "\n",
        "    # create set of components\n",
        "    components = set(data.keys())\n",
        "    \n",
        "    # create variables\n",
        "    x = {c: cp.Variable(nonneg=True, name=c) for c in components}\n",
        "    \n",
        "    # create objective function\n",
        "    total_cost = sum(x[c]*data[c]['cost'] for c in components)\n",
        "    \n",
        "    # create list of constraints\n",
        "    constraints = [\n",
        "        0 <= sum(x[c]*data[c]['C']/100 for c in components)/mass*100 - lower_bound,\n",
        "        0 >= sum(x[c]*data[c]['C']/100 for c in components)/mass*100 - upper_bound,\n",
        "        mass == sum(x[c] for c in components)\n",
        "    ]  \n",
        "    \n",
        "    # create and solve problem\n",
        "    problem = cp.Problem(cp.Minimize(total_cost), constraints)\n",
        "    problem.solve()\n",
        "    \n",
        "    # return results\n",
        "    min_cost = problem.value\n",
        "    optimal_blend = {c: x[c].value for c in components}\n",
        "    C_conc = sum(x[c].value*data[c]['C']/100 for c in components)/mass\n",
        "    Cu_conc = sum(x[c].value*data[c]['Cu']/100 for c in components)/mass\n",
        "    Mn_conc = sum(x[c].value*data[c]['Mn']/100 for c in components)/mass\n",
        "    blend_comp = [C_conc, Cu_conc, Mn_conc]\n",
        "    return min_cost, optimal_blend, blend_comp"
      ],
      "execution_count": 2,
      "outputs": []
    },
    {
      "cell_type": "code",
      "metadata": {
        "id": "i-R8h6OSAEvF",
        "colab": {
          "base_uri": "https://localhost:8080/",
          "height": 0
        },
        "outputId": "ef646d21-702b-447a-a35c-543aa80aa838"
      },
      "source": [
        "bounds = [2,3]\n",
        "mass = 5000\n",
        "min_cost, optimal_blend, blend_comp = metal_blend(data, mass, bounds)\n",
        "print(f'Minimum Cost = {min_cost} dollars')\n",
        "print(f'Optimal Blend: {optimal_blend}')\n",
        "print(f'% C: {100*blend_comp[0]}')\n",
        "print(f'% Cu: {100*blend_comp[1]}')\n",
        "print(f'% Mn: {100*blend_comp[2]}')"
      ],
      "execution_count": 4,
      "outputs": [
        {
          "output_type": "stream",
          "text": [
            "Minimum Cost = 5700.0000002861625 dollars\n",
            "Optimal Blend: {'E': 1.0271813721011657e-07, 'D': 1.5132256949499066e-07, 'C': 999.999999134046, 'A': 3999.99999950496, 'G': 5.688986266333344e-07, 'B': 3.3114738589179227e-07, 'F': 2.069068901420178e-07}\n",
            "% C: 1.9999999999511682\n",
            "% Cu: 0.06000000472885763\n",
            "% Mn: 1.0400000000561056\n"
          ],
          "name": "stdout"
        }
      ]
    },
    {
      "cell_type": "markdown",
      "metadata": {
        "id": "DSHMhaDmdb-G",
        "nbpages": {
          "level": 2,
          "link": "[5.3.2 Exercise 2. Incorporating Constraints](https://jckantor.github.io/cbe30338-2021/05.03-Homework_5.html#5.3.2-Exercise-2.-Incorporating-Constraints)",
          "section": "5.3.2 Exercise 2. Incorporating Constraints"
        }
      },
      "source": [
        "## 5.3.2 Exercise 2. Incorporating Constraints\n",
        "\n",
        "We'll continue this problem by incorporating all of the constraints. The constraiints include:\n",
        "\n",
        "* Lower and upper bounds on the copper and manganese composition\n",
        "* Limits on the amount of available raw material\n",
        "\n",
        "The easiest way to proceed is to copy and paste `metal_blend` into a cell below, then add constraints one at a time until all have been incorporated.\n",
        "\n",
        "What is the minimum price you would need to charge in $/kg to produce 5,000 kg of requested product?"
      ]
    },
    {
      "cell_type": "code",
      "metadata": {
        "nbpages": {
          "level": 3,
          "link": "[5.3.1.1 Solution](https://jckantor.github.io/cbe30338-2021/05.03-Homework_5.html#5.3.1.1-Solution)",
          "section": "5.3.1.1 Solution"
        },
        "id": "1Cc64JdjM1yH"
      },
      "source": [
        "import numpy as np\n",
        "import cvxpy as cp\n",
        "\n",
        "def metal_blend(data, mass, bounds):\n",
        "    \n",
        "    # Unpack bounds\n",
        "    conc = bounds\n",
        "\n",
        "    # create set of components\n",
        "    components = set(data.keys())\n",
        "    \n",
        "    # create variables\n",
        "    x = {c: cp.Variable(nonneg=True, name=c) for c in components}\n",
        "    \n",
        "    # create objective function\n",
        "    total_cost = sum(x[c]*data[c]['cost'] for c in components)\n",
        "    \n",
        "    # create list of constraints\n",
        "    constraints = [\n",
        "        0 <= sum(x[c]*data[c]['C']/100 for c in components)/mass*100 - conc['Ca']['min'],\n",
        "        0 >= sum(x[c]*data[c]['C']/100 for c in components)/mass*100 - conc['Ca']['max'],\n",
        "        0 <= sum(x[c]*data[c]['Cu']/100 for c in components)/mass*100 - conc['Cu']['min'],\n",
        "        0 >= sum(x[c]*data[c]['Cu']/100 for c in components)/mass*100 - conc['Cu']['max'],\n",
        "        0 <= sum(x[c]*data[c]['Mn']/100 for c in components)/mass*100 - conc['Mn']['min'],\n",
        "        0 >= sum(x[c]*data[c]['Mn']/100 for c in components)/mass*100 - conc['Mn']['max'], \n",
        "        0 >= x['A'] - data['A']['amount'],\n",
        "        0 >= x['B'] - data['B']['amount'],\n",
        "        0 >= x['C'] - data['C']['amount'],\n",
        "        0 >= x['D'] - data['D']['amount'],\n",
        "        0 >= x['E'] - data['E']['amount'],\n",
        "        0 >= x['F'] - data['F']['amount'],\n",
        "        0 >= x['G'] - data['G']['amount'],\n",
        "        mass == sum(x[c] for c in components)\n",
        "    ]  \n",
        "    \n",
        "    # create and solve problem\n",
        "    problem = cp.Problem(cp.Minimize(total_cost), constraints)\n",
        "    problem.solve()\n",
        "    \n",
        "    # return results\n",
        "    min_cost = problem.value\n",
        "    optimal_blend = {c: x[c].value for c in components}\n",
        "    C_conc = sum(x[c].value*data[c]['C']/100 for c in components)/mass\n",
        "    Cu_conc = sum(x[c].value*data[c]['Cu']/100 for c in components)/mass\n",
        "    Mn_conc = sum(x[c].value*data[c]['Mn']/100 for c in components)/mass\n",
        "    blend_comp = [C_conc, Cu_conc, Mn_conc]\n",
        "    return min_cost, optimal_blend, blend_comp"
      ],
      "execution_count": 5,
      "outputs": []
    },
    {
      "cell_type": "code",
      "metadata": {
        "colab": {
          "base_uri": "https://localhost:8080/",
          "height": 0
        },
        "id": "cnpRnrNRRP3B",
        "outputId": "afdad71e-fa0a-4252-a8f6-4930bc2231b5"
      },
      "source": [
        "mass = 5000\n",
        "min_cost, optimal_blend, blend_comp = metal_blend(data, mass, bound_array)\n",
        "print(f'Minimum Cost = {min_cost} dollars')\n",
        "print(f'Optimal Blend: {optimal_blend}')\n",
        "print(f'% C: {100*blend_comp[0]}')\n",
        "print(f'% Cu: {100*blend_comp[1]}')\n",
        "print(f'% Mn: {100*blend_comp[2]}')"
      ],
      "execution_count": 6,
      "outputs": [
        {
          "output_type": "stream",
          "text": [
            "Minimum Cost = 5887.574276138116 dollars\n",
            "Optimal Blend: {'E': 27.612721476952302, 'D': 1.6988942590043377e-07, 'C': 397.7630139073558, 'A': 3999.9999994246773, 'G': 2.341794167100359e-06, 'B': 1.3081809082283902e-06, 'F': 574.6242613711506}\n",
            "% C: 2.0000000004972467\n",
            "% Cu: 0.5999999774406426\n",
            "% Mn: 1.1999999999703632\n"
          ],
          "name": "stdout"
        }
      ]
    },
    {
      "cell_type": "markdown",
      "metadata": {
        "id": "Jq99WAVRlLQt",
        "nbpages": {
          "level": 2,
          "link": "[5.3.3 Exercise 3. Sensitivity Analysis](https://jckantor.github.io/cbe30338-2021/05.03-Homework_5.html#5.3.3-Exercise-3.-Sensitivity-Analysis)",
          "section": "5.3.3 Exercise 3. Sensitivity Analysis"
        }
      },
      "source": [
        "## 5.3.3 Exercise 3. Sensitivity Analysis\n",
        "\n",
        "One of the important reasons to create optimization models is to understand the value of the raw materials that are available to you, and how to adjust operations to accomodate changing requirements. The is commonly referred to as **sensitivity analysis**.\n",
        "\n",
        "Using the functions you've created in above exercises, answer the following questions:\n",
        "\n",
        "1. The customer is very pleased with your initial pricing for 5,000 kg of the desired product, and now wishes to increase the order to 6,000 kg. Does your unit cost ($/kg) go up? If so, explain why your unit cost has gone up.\n",
        "\n",
        "2. Is there an upper limit on how much product your can provide to this customer? (Use trial and error. To the nearest 100 kg, find the maximum amount of product you can ship to the customer.) What is the unit cost now?\n",
        "\n",
        "3. After some negotiation, you and your customer settle on an order of 6,500 kg. Now you wish to negotiate with your suppliers for more raw material. How much money to you save for 1 additional kg of raw material \"A\"? Based on this, what price would you be willing to pay your supplier for additional \"A\"?\n",
        "\n"
      ]
    },
    {
      "cell_type": "markdown",
      "metadata": {
        "id": "2dq2uMLvWE_I"
      },
      "source": [
        "Part 1: Expand order to 6,000 units"
      ]
    },
    {
      "cell_type": "code",
      "metadata": {
        "colab": {
          "base_uri": "https://localhost:8080/",
          "height": 0
        },
        "id": "zR-8HXwJWMBr",
        "outputId": "2eb8eb76-00fd-49e3-e464-28e2a68054fb"
      },
      "source": [
        "mass = 6000\n",
        "min_cost, optimal_blend, blend_comp = metal_blend(data, mass, bound_array)\n",
        "print(f'Minimum Cost = {min_cost} dollars')\n",
        "print(f'Optimal Blend: {optimal_blend}')\n",
        "print(f'% C: {100*blend_comp[0]}')\n",
        "print(f'% Cu: {100*blend_comp[1]}')\n",
        "print(f'% Mn: {100*blend_comp[2]}')\n",
        "\n",
        "print(f'price per unit = {min_cost/mass} dollars')"
      ],
      "execution_count": 7,
      "outputs": [
        {
          "output_type": "stream",
          "text": [
            "Minimum Cost = 7352.1437762038095 dollars\n",
            "Optimal Blend: {'E': 32.273092308560294, 'D': 8.476167894737313e-07, 'C': 186.41499178198316, 'A': 3999.999997040055, 'G': 1.4098485562594284e-06, 'B': 666.6666695282394, 'F': 1114.6452470836973}\n",
            "% C: 2.0000000001974763\n",
            "% Cu: 0.5999999225202137\n",
            "% Mn: 1.19999999958489\n",
            "price per unit = 1.2253572960339683 dollars\n"
          ],
          "name": "stdout"
        }
      ]
    },
    {
      "cell_type": "markdown",
      "metadata": {
        "id": "vgZr0ZzwWSfn"
      },
      "source": [
        "The cost per unit does increase because there are limits on the amount of the cheapest materials available. This means that to make 6000 kg the more expensive materials have to be used, and these materials increase the unit price."
      ]
    },
    {
      "cell_type": "markdown",
      "metadata": {
        "id": "qUdPQrjQWgvz"
      },
      "source": [
        "Part 2: What is the upper limit on how much product can be provided to the customer? Use trial and error. "
      ]
    },
    {
      "cell_type": "code",
      "metadata": {
        "colab": {
          "base_uri": "https://localhost:8080/",
          "height": 0
        },
        "id": "lQXE2p2-Wq0V",
        "outputId": "547eebe2-836b-4248-c66e-33aab93941f1"
      },
      "source": [
        "mass = 6800\n",
        "min_cost, optimal_blend, blend_comp = metal_blend(data, mass, bound_array)\n",
        "print(f'Minimum Cost = {min_cost} dollars')\n",
        "print(f'Optimal Blend: {optimal_blend}')\n",
        "print(f'% C: {100*blend_comp[0]}')\n",
        "print(f'% Cu: {100*blend_comp[1]}')\n",
        "print(f'% Mn: {100*blend_comp[2]}')\n",
        "\n",
        "print(f'price per unit = {min_cost/mass} dollars')"
      ],
      "execution_count": 8,
      "outputs": [
        {
          "output_type": "stream",
          "text": [
            "Minimum Cost = 8523.799373967979 dollars\n",
            "Optimal Blend: {'E': 36.00139613232746, 'D': 9.024475587930024e-07, 'C': 17.336585229855814, 'A': 3999.9999968392376, 'G': 3.9791029970022975e-06, 'B': 1200.0000040314483, 'F': 1546.6620128855768}\n",
            "% C: 2.000000000616535\n",
            "% Cu: 0.5999999842697598\n",
            "% Mn: 1.1999999998688484\n",
            "price per unit = 1.2534999079364675 dollars\n"
          ],
          "name": "stdout"
        }
      ]
    },
    {
      "cell_type": "markdown",
      "metadata": {
        "id": "FqSNbNAfXMR5"
      },
      "source": [
        "The maximum amount of product is 6,800 kg with a unit cost = 1.25 dollars/unit"
      ]
    },
    {
      "cell_type": "markdown",
      "metadata": {
        "id": "tngIKlnVXi2s"
      },
      "source": [
        "Part 3: Determine how much money you are willing to spend on an additional unit of A for a sale of 6500 kg and a negotiation to buy 1 kg more of A."
      ]
    },
    {
      "cell_type": "markdown",
      "metadata": {
        "id": "M7kygLfMXsMl"
      },
      "source": [
        "First, run the old deal at 6500 kg:"
      ]
    },
    {
      "cell_type": "code",
      "metadata": {
        "colab": {
          "base_uri": "https://localhost:8080/",
          "height": 0
        },
        "id": "ub9jG_frX3wp",
        "outputId": "cacb7af2-3613-4519-ef0f-ae0fa0bcb6a1"
      },
      "source": [
        "mass = 6500\n",
        "min_cost, optimal_blend, blend_comp = metal_blend(data, mass, bound_array)\n",
        "print(f'Minimum Cost = {min_cost} dollars')\n",
        "print(f'Optimal Blend: {optimal_blend}')\n",
        "print(f'% C: {100*blend_comp[0]}')\n",
        "print(f'% Cu: {100*blend_comp[1]}')\n",
        "print(f'% Mn: {100*blend_comp[2]}')\n",
        "\n",
        "Old_Unit_Cost = min_cost/mass\n",
        "Old_Total_Cost = min_cost\n",
        "\n",
        "print(f'total price = {Old_Total_Cost} dollars')\n",
        "print(f'price per unit = {Old_Unit_Cost} dollars')"
      ],
      "execution_count": 9,
      "outputs": [
        {
          "output_type": "stream",
          "text": [
            "Minimum Cost = 8084.428521739293 dollars\n",
            "Optimal Blend: {'E': 34.60328530629657, 'D': 4.086054622841687e-08, 'C': 80.74099869994772, 'A': 3999.9999998009553, 'G': 2.692619738475979e-07, 'B': 1000.0000002415633, 'F': 1384.6557156411138}\n",
            "% C: 2.0000000000349347\n",
            "% Cu: 0.5999999967861396\n",
            "% Mn: 1.1999999999890791\n",
            "total price = 8084.428521739293 dollars\n",
            "price per unit = 1.2437582341137374 dollars\n"
          ],
          "name": "stdout"
        }
      ]
    },
    {
      "cell_type": "markdown",
      "metadata": {
        "id": "AJtn5aYlYj2C"
      },
      "source": [
        "Second, run the new deal at 6500 kg:"
      ]
    },
    {
      "cell_type": "code",
      "metadata": {
        "nbpages": {
          "level": 1,
          "link": "[5.3 Homework Assignment 4](https://jckantor.github.io/cbe30338-2021/05.03-Homework_5.html#5.3-Homework-Assignment-4)",
          "section": "5.3 Homework Assignment 4"
        },
        "id": "oPwmNBfpYtH0"
      },
      "source": [
        "data_new = {\n",
        "    \"A\": {\"C\": 2.5, \"Cu\": 0.0, \"Mn\": 1.3, \"amount\": 4001, \"cost\": 1.20},\n",
        "    \"B\": {\"C\": 3.0, \"Cu\": 0.0, \"Mn\": 0.8, \"amount\": 3000, \"cost\": 1.50},\n",
        "    \"C\": {\"C\": 0.0, \"Cu\": 0.3, \"Mn\": 0.0, \"amount\": 6000, \"cost\": 0.90},\n",
        "    \"D\": {\"C\": 0.0, \"Cu\": 90.0, \"Mn\": 0.0, \"amount\": 5000, \"cost\": 1.30},\n",
        "    \"E\": {\"C\": 0.0, \"Cu\": 96.0, \"Mn\": 4.0, \"amount\": 2000, \"cost\": 1.45},\n",
        "    \"F\": {\"C\": 0.0, \"Cu\": 0.4, \"Mn\": 1.2, \"amount\": 3000, \"cost\": 1.20},\n",
        "    \"G\": {\"C\": 0.0, \"Cu\": 0.6, \"Mn\": 0.0, \"amount\": 2500, \"cost\": 1.00},\n",
        "}"
      ],
      "execution_count": 10,
      "outputs": []
    },
    {
      "cell_type": "code",
      "metadata": {
        "colab": {
          "base_uri": "https://localhost:8080/",
          "height": 0
        },
        "id": "P58hUexMY0KY",
        "outputId": "5c57cd52-d1db-4a98-b3b5-49e1fe2dde47"
      },
      "source": [
        "mass = 6500\n",
        "min_cost, optimal_blend, blend_comp = metal_blend(data_new, mass, bound_array)\n",
        "print(f'Minimum Cost = {min_cost} dollars')\n",
        "print(f'Optimal Blend: {optimal_blend}')\n",
        "print(f'% C: {100*blend_comp[0]}')\n",
        "print(f'% Cu: {100*blend_comp[1]}')\n",
        "print(f'% Mn: {100*blend_comp[2]}')\n",
        "\n",
        "New_Total_Cost = min_cost\n",
        "New_Unit_Cost = min_cost/mass\n",
        "\n",
        "print(f'total cost = {New_Total_Cost} dollars')\n",
        "print(f'price per unit = {New_Unit_Cost} dollars')"
      ],
      "execution_count": 11,
      "outputs": [
        {
          "output_type": "stream",
          "text": [
            "Minimum Cost = 8084.069703435403 dollars\n",
            "Optimal Blend: {'E': 34.604363017899445, 'D': 4.069410565938277e-08, 'C': 81.10462446945442, 'A': 4000.9999998020844, 'G': 2.7133856606109964e-07, 'B': 999.1666669065416, 'F': 1384.1243454919877}\n",
            "% C: 2.00000000003459\n",
            "% Cu: 0.5999999967817308\n",
            "% Mn: 1.1999999999892195\n",
            "total cost = 8084.069703435403 dollars\n",
            "price per unit = 1.2437030312977544 dollars\n"
          ],
          "name": "stdout"
        }
      ]
    },
    {
      "cell_type": "code",
      "metadata": {
        "colab": {
          "base_uri": "https://localhost:8080/",
          "height": 0
        },
        "id": "wnG2auOUXyFg",
        "outputId": "e3358765-57ce-4df4-a738-1726e6f6ee8d"
      },
      "source": [
        "Cost_Save = Old_Total_Cost - New_Total_Cost\n",
        "print(f'Saved {Cost_Save} dollars with 1 kg more of A.')"
      ],
      "execution_count": 12,
      "outputs": [
        {
          "output_type": "stream",
          "text": [
            "Saved 0.3588183038891657 dollars with 1 kg more of A.\n"
          ],
          "name": "stdout"
        }
      ]
    },
    {
      "cell_type": "code",
      "metadata": {
        "colab": {
          "base_uri": "https://localhost:8080/",
          "height": 0
        },
        "id": "whCQN2t1aaA_",
        "outputId": "855af233-d412-4fc1-db7d-d5b62a4e3070"
      },
      "source": [
        "Unit_Cost_Save = Old_Unit_Cost - New_Unit_Cost\n",
        "Price_Add_A = Unit_Cost_Save + data['A']['cost']\n",
        "print(f'Price Willing to Pay for Extra A = {Price_Add_A} dollars')"
      ],
      "execution_count": 13,
      "outputs": [
        {
          "output_type": "stream",
          "text": [
            "Price Willing to Pay for Extra A = 1.200055202815983 dollars\n"
          ],
          "name": "stdout"
        }
      ]
    },
    {
      "cell_type": "markdown",
      "metadata": {
        "id": "U1nyOROV5F5N"
      },
      "source": [
        "<!--NAVIGATION-->\n",
        "< [5.2 Linear Blending Problems](https://jckantor.github.io/cbe30338-2021/05.02-Linear-Blending-Problem.html) | [Contents](toc.html) | [Tag Index](tag_index.html) | [5.4 Gasoline Blending](https://jckantor.github.io/cbe30338-2021/05.04-Gasoline-Blending.html) ><p><a href=\"https://colab.research.google.com/github/jckantor/cbe30338-2021/blob/master/docs/05.03-Homework_5.ipynb\"> <img align=\"left\" src=\"https://colab.research.google.com/assets/colab-badge.svg\" alt=\"Open in Colab\" title=\"Open in Google Colaboratory\"></a><p><a href=\"https://jckantor.github.io/cbe30338-2021/05.03-Homework_5.ipynb\"> <img align=\"left\" src=\"https://img.shields.io/badge/Github-Download-blue.svg\" alt=\"Download\" title=\"Download Notebook\"></a>"
      ]
    }
  ]
}