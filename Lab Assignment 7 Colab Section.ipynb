{
 "cells": [
  {
   "cell_type": "markdown",
   "metadata": {
    "id": "747qUlRufD2N"
   },
   "source": [
    "<!--NOTEBOOK_HEADER-->\n",
    "*This notebook contains material from [cbe30338-2021](https://jckantor.github.io/cbe30338-2021);\n",
    "content is available [on Github](https://github.com/jckantor/cbe30338-2021.git).*\n"
   ]
  },
  {
   "cell_type": "markdown",
   "metadata": {
    "id": "itgRnAbYfD2T"
   },
   "source": [
    "<!--NAVIGATION-->\n",
    "< [6.0 Predictive Control](https://jckantor.github.io/cbe30338-2021/06.00-Predictive-Control.html) | [Contents](toc.html) | [Tag Index](tag_index.html) | [7.0 Projects](https://jckantor.github.io/cbe30338-2021/07.00-Projects.html) ><p><a href=\"https://colab.research.google.com/github/jckantor/cbe30338-2021/blob/master/docs/06.01-Static-Operability.ipynb\"> <img align=\"left\" src=\"https://colab.research.google.com/assets/colab-badge.svg\" alt=\"Open in Colab\" title=\"Open in Google Colaboratory\"></a><p><a href=\"https://jckantor.github.io/cbe30338-2021/06.01-Static-Operability.ipynb\"> <img align=\"left\" src=\"https://img.shields.io/badge/Github-Download-blue.svg\" alt=\"Download\" title=\"Download Notebook\"></a>"
   ]
  },
  {
   "cell_type": "markdown",
   "metadata": {
    "id": "GZE_JUBafD2U",
    "nbpages": {
     "level": 1,
     "link": "[6.1 Static Operability](https://jckantor.github.io/cbe30338-2021/06.01-Static-Operability.html#6.1-Static-Operability)",
     "section": "6.1 Static Operability"
    }
   },
   "source": [
    "# 6.1 Static Operability\n",
    "\n",
    "**Static operability** refers to the ability to operate a system under steady-state conditions. We are primarily interested in determining values for the manipulable inputs that acheive a desired process target, subject to all relevant operating constraints."
   ]
  },
  {
   "cell_type": "markdown",
   "metadata": {
    "id": "nR_0YMQ7fD2U",
    "nbpages": {
     "level": 3,
     "link": "[6.1.1 State Space Model](https://jckantor.github.io/cbe30338-2021/06.01-Static-Operability.html#6.1.1-State-Space-Model)",
     "section": "6.1.1 State Space Model"
    }
   },
   "source": [
    "### 6.1.1 State Space Model"
   ]
  },
  {
   "cell_type": "markdown",
   "metadata": {
    "id": "ZjQ3nMOCfD2U",
    "nbpages": {
     "level": 3,
     "link": "[6.1.1 State Space Model](https://jckantor.github.io/cbe30338-2021/06.01-Static-Operability.html#6.1.1-State-Space-Model)",
     "section": "6.1.1 State Space Model"
    }
   },
   "source": [
    "The state-space model for the Temperature Control Laboratory is given by\n",
    "\n",
    "\\begin{align}\n",
    "\\frac{dx}{dt} & = A x + B_u u + B_d d \\\\\n",
    "y & = C x\n",
    "\\end{align}\n",
    "\n",
    "where the structure of the matrix parameters and vector variables is given by\n",
    "\n",
    "\\begin{align}\n",
    "\\frac{d}{dt}\\underbrace{\\left[\\begin{array}{c} T_{H,1} \\\\ T_{S,1} \\\\ T_{H,2} \\\\ T_{S,2} \\end{array}\\right]}_x\n",
    "& = \n",
    "\\underbrace{\\left[\\begin{array}{cccc}\n",
    "-(\\frac{U_a+U_b+U_c}{C^H_p}) & \\frac{U_b}{C^H_p} & \\frac{U_c}{C^H_p} & 0 \\\\\n",
    "\\frac{U_b}{C^S_p} & -\\frac{U_b}{C^S_p} & 0 & 0 \\\\\n",
    "\\frac{U_c}{C^H_p} & 0 & -(\\frac{U_a+U_b+U_c}{C^H_p}) & \\frac{U_b}{C^H_p} \\\\\n",
    "0 & 0 & \\frac{U_b}{C^S_p} & -\\frac{U_b}{C^S_p}\n",
    "\\end{array}\\right]}_A\n",
    "\\underbrace{\\left[\\begin{array}{c}T_{H,1} \\\\ T_{S,1} \\\\ T_{H,2} \\\\ T_{S,2}\\end{array}\\right]}_x\n",
    "+\n",
    "\\underbrace{\\left[\\begin{array}{cc}\\frac{\\alpha P_1}{C_p} & 0 \\\\ 0 & 0 \\\\ 0 & \\frac{\\alpha P_2}{C_p} \\\\ 0 & 0 \\end{array}\\right]}_{B_u}\n",
    "\\underbrace{\\left[\\begin{array}{c}u_1 \\\\ u_2\\end{array}\\right]}_u\n",
    "+\n",
    "\\underbrace{\\left[\\begin{array}{c}\\frac{U_a}{C^H_p} \\\\ 0 \\\\ \\frac{U_a}{C^H_p} \\\\ 0 \\end{array}\\right]}_{B_d}\n",
    "\\underbrace{\\left[\\begin{array}{c}T_{amb}\\end{array}\\right]}_{d}\n",
    "\\end{align}\n",
    "\n",
    "\\begin{align}\n",
    "\\underbrace{\\left[\\begin{array}{c} T_1 \\\\ T_2 \\end{array}\\right]}_y\n",
    "& = \n",
    "\\underbrace{\\left[\\begin{array}{cccc} 0 & 1 & 0 & 0 \\\\ 0 & 0 & 0 & 1 \\end{array}\\right]}_C\n",
    "\\underbrace{\\left[\\begin{array}{c}T_{H,1} \\\\ T_{S,1} \\\\ T_{H,2} \\\\ T_{S,2}\\end{array}\\right]}_x\n",
    "\\end{align}"
   ]
  },
  {
   "cell_type": "markdown",
   "metadata": {
    "id": "ryGkpwmAfD2V",
    "nbpages": {
     "level": 2,
     "link": "[6.1.1 Steady State Operability](https://jckantor.github.io/cbe30338-2021/06.01-Static-Operability.html#6.1.1-Steady-State-Operability)",
     "section": "6.1.1 Steady State Operability"
    }
   },
   "source": [
    "## 6.1.1 Steady State Operability"
   ]
  },
  {
   "cell_type": "markdown",
   "metadata": {
    "id": "4MKmuG9AfD2V",
    "nbpages": {
     "level": 2,
     "link": "[6.1.2 Steady State Model](https://jckantor.github.io/cbe30338-2021/06.01-Static-Operability.html#6.1.2-Steady-State-Model)",
     "section": "6.1.2 Steady State Model"
    }
   },
   "source": [
    "## 6.1.2 Steady State Model\n",
    "\n",
    "At steady-state our becomes\n",
    "\n",
    "\\begin{align}\n",
    "0 & = A \\bar{x} + B_u\\bar{u} + B_d\\bar{d} \\\\\n",
    "\\bar{y} & = C \\bar{x} \\\\\n",
    "\\end{align}\n",
    "\n",
    "where the overbar $\\bar{u}$, $\\bar{x}$, and $\\bar{y}$ denote the steady-state value of $u$, $x$, and $y$, respectively. We assume $\\bar{d}$ is known."
   ]
  },
  {
   "cell_type": "markdown",
   "metadata": {
    "id": "nV0v6JyAfD2V",
    "nbpages": {
     "level": 3,
     "link": "[6.1.2.1 Steady-State input constraints](https://jckantor.github.io/cbe30338-2021/06.01-Static-Operability.html#6.1.2.1-Steady-State-input-constraints)",
     "section": "6.1.2.1 Steady-State input constraints"
    }
   },
   "source": [
    "### 6.1.2.1 Steady-State input constraints\n",
    "\n",
    "The constraints on $\\bar{u}$ are given by upper and lower bounds\n",
    "\n",
    "\\begin{align}\n",
    "0 & \\leq \\bar{u}_1 \\leq 100 \\\\\n",
    "0 & \\leq \\bar{u}_2 \\leq 100 \n",
    "\\end{align}\n",
    "\n",
    "when the values of $u_1$ and $u_2$ correspond to percentage of maximum power. "
   ]
  },
  {
   "cell_type": "markdown",
   "metadata": {
    "id": "eZqI1TdSfD2V",
    "nbpages": {
     "level": 3,
     "link": "[6.1.2.2 Steady-State output constraints](https://jckantor.github.io/cbe30338-2021/06.01-Static-Operability.html#6.1.2.2-Steady-State-output-constraints)",
     "section": "6.1.2.2 Steady-State output constraints"
    }
   },
   "source": [
    "### 6.1.2.2 Steady-State output constraints\n",
    "\n",
    "We will assume there are upper limits for each of the temperature outputs\n",
    "\n",
    "\\begin{align}\n",
    "\\bar{y}_1 & \\leq \\bar{y}_1^{max} \\\\\n",
    "\\bar{y}_2 & \\leq \\bar{y}_2^{max}\n",
    "\\end{align}\n",
    "\n",
    "when the values of $u_1$ and $u_2$ correspond to percentage of maximum power. "
   ]
  },
  {
   "cell_type": "markdown",
   "metadata": {
    "id": "Mk0PvlMlfD2W",
    "nbpages": {
     "level": 3,
     "link": "[6.1.2.3 Steady-State setpoint targets or ranges](https://jckantor.github.io/cbe30338-2021/06.01-Static-Operability.html#6.1.2.3-Steady-State-setpoint-targets-or-ranges)",
     "section": "6.1.2.3 Steady-State setpoint targets or ranges"
    }
   },
   "source": [
    "### 6.1.2.3 Steady-State setpoint targets or ranges\n",
    "\n",
    "The purpose of control is to find inputs $\\bar{u}_1$ and $\\bar{u}_2$ that cause the outputs to take on desired values. Those values could be specified as specific setpoints $\\bar{r}_1^{SP}$ and $\\bar{r}_2^{SP}$ in the form\n",
    "\n",
    "\\begin{align}\n",
    "\\bar{y}_1 & = \\bar{r}_1^{SP} \\\\\n",
    "\\bar{y}_2 & = \\bar{r}_2^{SP}\n",
    "\\end{align}\n",
    "\n",
    "Alternatively, the desired operation could be specified by a range of values\n",
    "\n",
    "\\begin{align}\n",
    "\\bar{r}_1^{min} & \\leq \\bar{y}_1 \\leq \\bar{r}_1^{max} \\\\\n",
    "\\bar{r}_2^{min} & \\leq \\bar{y}_2 \\leq \\bar{r}_2^{max}\n",
    "\\end{align}"
   ]
  },
  {
   "cell_type": "markdown",
   "metadata": {
    "id": "LoVhmfBFfD2W",
    "nbpages": {
     "level": 2,
     "link": "[6.1.3 CVXPY Solution](https://jckantor.github.io/cbe30338-2021/06.01-Static-Operability.html#6.1.3-CVXPY-Solution)",
     "section": "6.1.3 CVXPY Solution"
    }
   },
   "source": [
    "## 6.1.3 CVXPY Solution"
   ]
  },
  {
   "cell_type": "markdown",
   "metadata": {
    "id": "1yS4H0O9fD2W",
    "nbpages": {
     "level": 3,
     "link": "[6.1.3.1 Imports](https://jckantor.github.io/cbe30338-2021/06.01-Static-Operability.html#6.1.3.1-Imports)",
     "section": "6.1.3.1 Imports"
    }
   },
   "source": [
    "### 6.1.3.1 Imports"
   ]
  },
  {
   "cell_type": "code",
   "execution_count": 2,
   "metadata": {
    "id": "-W3ETTF1fD2W",
    "nbpages": {
     "level": 3,
     "link": "[6.1.3.1 Imports](https://jckantor.github.io/cbe30338-2021/06.01-Static-Operability.html#6.1.3.1-Imports)",
     "section": "6.1.3.1 Imports"
    }
   },
   "outputs": [],
   "source": [
    "import numpy as np\n",
    "import cvxpy as cp"
   ]
  },
  {
   "cell_type": "markdown",
   "metadata": {
    "id": "nw7UsQu8fD2X",
    "nbpages": {
     "level": 3,
     "link": "[6.1.3.2 Model Parameters](https://jckantor.github.io/cbe30338-2021/06.01-Static-Operability.html#6.1.3.2-Model-Parameters)",
     "section": "6.1.3.2 Model Parameters"
    }
   },
   "source": [
    "### 6.1.3.2 Model Parameters"
   ]
  },
  {
   "cell_type": "code",
   "execution_count": null,
   "metadata": {
    "id": "qeM-RA3zfD2X",
    "nbpages": {
     "level": 3,
     "link": "[6.1.3.2 Model Parameters](https://jckantor.github.io/cbe30338-2021/06.01-Static-Operability.html#6.1.3.2-Model-Parameters)",
     "section": "6.1.3.2 Model Parameters"
    }
   },
   "outputs": [],
   "source": [
    "# parameter estimates.\n",
    "alpha = 0.00016       # watts / (units P * percent U1)\n",
    "P1 = 200              # P units\n",
    "P2 = 100              # P units\n",
    "CpH = 4.46            # heat capacity of the heater (J/deg C)\n",
    "CpS = 0.819           # heat capacity of the sensor (J/deg C)\n",
    "Ua = 0.050            # heat transfer coefficient from heater to environment\n",
    "Ub = 0.021            # heat transfer coefficient from heater to sensor\n",
    "Uc = 0.0335           # heat transfer coefficient between heaters\n",
    "Tamb = 21             # ambient room temperature\n",
    "\n",
    "# state space model\n",
    "A = np.array([[-(Ua + Ub + Uc)/CpH, Ub/CpH, Uc/CpH, 0], \n",
    "              [Ub/CpS, -Ub/CpS, 0, 0],\n",
    "              [Uc/CpH, 0, -(Ua + Ub + Uc)/CpH, Ub/CpH],\n",
    "              [0, 0, Ub/CpS, -Ub/CpS]])\n",
    "\n",
    "Bu = np.array([[alpha*P1/CpH, 0], [0, 0], [0, alpha*P2/CpH], [0, 0]])\n",
    "\n",
    "Bd = np.array([[Ua/CpH], [0], [Ua/CpH], [0]])\n",
    "\n",
    "C = np.array([[0, 1, 0, 0], [0, 0, 0, 1]])\n",
    "\n",
    "# initial values for states and inputs\n",
    "u_initial = np.array([0, 0])\n",
    "d_initial = np.array([Tamb])\n",
    "x_initial = np.array([Tamb, Tamb, Tamb, Tamb])"
   ]
  },
  {
   "cell_type": "markdown",
   "metadata": {
    "id": "BJdXphJgfD2Y",
    "nbpages": {
     "level": 3,
     "link": "[6.1.3.3 CVXPY Model](https://jckantor.github.io/cbe30338-2021/06.01-Static-Operability.html#6.1.3.3-CVXPY-Model)",
     "section": "6.1.3.3 CVXPY Model"
    }
   },
   "source": [
    "### 6.1.3.3 CVXPY Model\n",
    "\n",
    "The following cell implements some, but not all, elements of the steady state analysis as a CVXPY optimization model."
   ]
  },
  {
   "cell_type": "markdown",
   "metadata": {
    "id": "nIbWQTtNfD2a",
    "nbpages": {
     "level": 2,
     "link": "[6.1.4 Lab Assigment 7](https://jckantor.github.io/cbe30338-2021/06.01-Static-Operability.html#6.1.4-Lab-Assigment-7)",
     "section": "6.1.4 Lab Assigment 7"
    }
   },
   "source": [
    "## 6.1.4 Lab Assigment 7"
   ]
  },
  {
   "cell_type": "markdown",
   "metadata": {
    "id": "DBxL3TE1fD2b",
    "nbpages": {
     "level": 3,
     "link": "[6.1.4.1 Exercise 1.](https://jckantor.github.io/cbe30338-2021/06.01-Static-Operability.html#6.1.4.1-Exercise-1.)",
     "section": "6.1.4.1 Exercise 1."
    }
   },
   "source": [
    "### 6.1.4.1 Exercise 1.\n",
    "\n",
    "1. In the cells below, cut and paste the parameter values for matriix coefficients $A$, $B_d$, $B_u$ and $C$ to match those you previously identified for your copy of the Temperature Control Lab.\n",
    "\n",
    "2. Using the CVXPY outline provided above, write a Python function named `feedforward` that accepts an estimate of $T_{amb}$, and setpoints for $T1$ and $T2$, and returns values for inputs $U1$ and $U2$. The function should constrain inputs U1 and U2 to values between 0 and 100%, constrain all temperatures to values no greater than 60 deg C. Use the the power settings required to set $T1 = 45$ and $T2 = 40$. Then create a simple event loop, and test these values on your hardware. How close was your result to the predicted value?\n",
    "\n",
    "3. Write an optimization model to find the greatest temperature differential between $T1$ and $T2$ while limiting both to temperatures less than 60 deg C. Verify this prediction using your hardware."
   ]
  },
  {
   "cell_type": "markdown",
   "metadata": {
    "id": "x4r_NuAIfGSE"
   },
   "source": [
    "Part 1: Generate matrix model"
   ]
  },
  {
   "cell_type": "code",
   "execution_count": 3,
   "metadata": {
    "colab": {
     "base_uri": "https://localhost:8080/"
    },
    "id": "umBFs2zbfLvp",
    "nbpages": {
     "level": 3,
     "link": "[6.1.3.2 Model Parameters](https://jckantor.github.io/cbe30338-2021/06.01-Static-Operability.html#6.1.3.2-Model-Parameters)",
     "section": "6.1.3.2 Model Parameters"
    },
    "outputId": "8e3b499a-025c-4329-f3fa-6169fba15298"
   },
   "outputs": [
    {
     "name": "stdout",
     "output_type": "stream",
     "text": [
      "A = [[-0.02477932  0.01428752  0.00506936  0.        ]\n",
      " [ 0.08098642 -0.08098642  0.          0.        ]\n",
      " [ 0.00506936  0.         -0.02477932  0.01428752]\n",
      " [ 0.          0.          0.08098642 -0.08098642]]\n",
      "Bu = [[0.00403531 0.        ]\n",
      " [0.         0.        ]\n",
      " [0.         0.00201765]\n",
      " [0.         0.        ]]\n",
      "Bd = [[0.00542245]\n",
      " [0.        ]\n",
      " [0.00542245]\n",
      " [0.        ]]\n",
      "C = [[0 1 0 0]\n",
      " [0 0 0 1]]\n"
     ]
    }
   ],
   "source": [
    "# parameter estimates.\n",
    "alpha = 0.00016       # watts / (units P * percent U1)\n",
    "P1 = 200              # P units\n",
    "P2 = 100              # P units\n",
    "CpH = 7.930            # heat capacity of the heater (J/deg C)\n",
    "CpS = 1.399           # heat capacity of the sensor (J/deg C)\n",
    "Ua = 0.043           # heat transfer coefficient from heater to environment\n",
    "Ub = 0.1133            # heat transfer coefficient from heater to sensor\n",
    "Uc = 0.0402           # heat transfer coefficient between heaters\n",
    "Tamb = 21             # ambient room temperature\n",
    "\n",
    "# state space model\n",
    "A = np.array([[-(Ua + Ub + Uc)/CpH, Ub/CpH, Uc/CpH, 0], \n",
    "              [Ub/CpS, -Ub/CpS, 0, 0],\n",
    "              [Uc/CpH, 0, -(Ua + Ub + Uc)/CpH, Ub/CpH],\n",
    "              [0, 0, Ub/CpS, -Ub/CpS]])\n",
    "\n",
    "Bu = np.array([[alpha*P1/CpH, 0], [0, 0], [0, alpha*P2/CpH], [0, 0]])\n",
    "\n",
    "Bd = np.array([[Ua/CpH], [0], [Ua/CpH], [0]])\n",
    "\n",
    "C = np.array([[0, 1, 0, 0], [0, 0, 0, 1]])\n",
    "\n",
    "# initial values for states and inputs\n",
    "u_initial = np.array([0, 0])\n",
    "d_initial = np.array([Tamb])\n",
    "x_initial = np.array([Tamb, Tamb, Tamb, Tamb])\n",
    "\n",
    "print(f'A = {A}')\n",
    "print(f'Bu = {Bu}')\n",
    "print(f'Bd = {Bd}')\n",
    "print(f'C = {C}')"
   ]
  },
  {
   "cell_type": "markdown",
   "metadata": {
    "id": "DryEKN3pfaf_"
   },
   "source": [
    "Part 2: Make a function feedforward"
   ]
  },
  {
   "cell_type": "code",
   "execution_count": 5,
   "metadata": {
    "id": "dKfoOHG_fjh1",
    "nbpages": {
     "level": 3,
     "link": "[6.1.3.3 CVXPY Model](https://jckantor.github.io/cbe30338-2021/06.01-Static-Operability.html#6.1.3.3-CVXPY-Model)",
     "section": "6.1.3.3 CVXPY Model"
    }
   },
   "outputs": [],
   "source": [
    "def feedforward(T_amb, SPs):\n",
    "    \n",
    "    d = np.array([T_amb])\n",
    "    T1_SP = SPs[0]\n",
    "    T2_SP = SPs[1]\n",
    "    \n",
    "    # unknowns to be computed\n",
    "    u = cp.Variable(2)\n",
    "    x = cp.Variable(4)\n",
    "    y = cp.Variable(2)\n",
    "    \n",
    "    # objective\n",
    "    objective = cp.Minimize(0)\n",
    "    \n",
    "    # model constraints\n",
    "    model_constraints = [\n",
    "                         0 == A@x + Bu@u + Bd@d, \n",
    "                         y == C@x\n",
    "                         ]\n",
    "   \n",
    "    # input constraints\n",
    "    input_constraints = [0 <= u, u <= 100]\n",
    "    \n",
    "    # output constraints\n",
    "    output_constraints = [0 <= x, x <= 60]\n",
    "    \n",
    "    # setpoints\n",
    "    setpoints = [y[0] == T1_SP, y[1] == T2_SP]\n",
    "    \n",
    "    # solve problem\n",
    "    constraints = model_constraints + input_constraints + output_constraints + setpoints\n",
    "    problem = cp.Problem(objective, constraints)\n",
    "    problem.solve()\n",
    "    \n",
    "    # display solution\n",
    "    print(f\"u = {u.value}\")\n",
    "    print(f\"x = {x.value}\")\n",
    "    print(f\"y = {y.value}\")"
   ]
  },
  {
   "cell_type": "code",
   "execution_count": 6,
   "metadata": {
    "colab": {
     "base_uri": "https://localhost:8080/"
    },
    "id": "u1cNnf5zjI0j",
    "outputId": "b3ed0fab-c09f-41dd-a58e-2f4a57c4d86c"
   },
   "outputs": [
    {
     "name": "stdout",
     "output_type": "stream",
     "text": [
      "u = [38.53125 38.5    ]\n",
      "x = [45. 45. 40. 40.]\n",
      "y = [45. 40.]\n"
     ]
    }
   ],
   "source": [
    "# Test Code Above\n",
    "T_val = 21\n",
    "Setpoints = [45,40]\n",
    "\n",
    "feedforward(T_val, Setpoints)"
   ]
  },
  {
   "cell_type": "markdown",
   "metadata": {
    "id": "JlJckBuM6FWF"
   },
   "source": [
    "A test on the actual TCLab is done on the attached Jupyter Notebook."
   ]
  },
  {
   "cell_type": "markdown",
   "metadata": {
    "id": "tF-KUEskaFug"
   },
   "source": [
    "Part 3: Optimization Model"
   ]
  },
  {
   "cell_type": "code",
   "execution_count": 7,
   "metadata": {
    "id": "eZg8IT89aO9k",
    "nbpages": {
     "level": 3,
     "link": "[6.1.3.3 CVXPY Model](https://jckantor.github.io/cbe30338-2021/06.01-Static-Operability.html#6.1.3.3-CVXPY-Model)",
     "section": "6.1.3.3 CVXPY Model"
    }
   },
   "outputs": [],
   "source": [
    "def feedforward_optimize(T_amb):\n",
    "    \n",
    "    d = np.array([T_amb])\n",
    "    \n",
    "    # unknowns to be computed\n",
    "    u = cp.Variable(2)\n",
    "    x = cp.Variable(4)\n",
    "    y = cp.Variable(2)\n",
    "    \n",
    "    # objective\n",
    "    objective = cp.Maximize(y[0]-y[1])\n",
    "    \n",
    "    # model constraints\n",
    "    model_constraints = [\n",
    "                         0 == A@x + Bu@u + Bd@d, \n",
    "                         y == C@x\n",
    "                         ]\n",
    "   \n",
    "    # input constraints\n",
    "    input_constraints = [0 <= u, u <= 100]\n",
    "    \n",
    "    # output constraints\n",
    "    output_constraints = [0 <= x, x <= 60]\n",
    "    \n",
    "    # solve problem\n",
    "    constraints = model_constraints + input_constraints + output_constraints\n",
    "    problem = cp.Problem(objective, constraints)\n",
    "    problem.solve()\n",
    "    \n",
    "    # display solution\n",
    "    print(f\"u = {u.value}\")\n",
    "    print(f\"x = {x.value}\")\n",
    "    print(f\"y = {y.value}\")"
   ]
  },
  {
   "cell_type": "code",
   "execution_count": 8,
   "metadata": {
    "colab": {
     "base_uri": "https://localhost:8080/"
    },
    "id": "pDNiqkodbBAF",
    "outputId": "8d3e4512-106b-4989-8d82-60cac166dd47"
   },
   "outputs": [
    {
     "name": "stdout",
     "output_type": "stream",
     "text": [
      "u = [7.77275391e+01 1.02221230e-09]\n",
      "x = [60.      60.      39.84375 39.84375]\n",
      "y = [60.      39.84375]\n"
     ]
    }
   ],
   "source": [
    "# Test Code Above\n",
    "T_val = 21\n",
    "\n",
    "feedforward_optimize(T_val)"
   ]
  },
  {
   "cell_type": "markdown",
   "metadata": {
    "id": "9OmsyceOkeTT"
   },
   "source": [
    "The test for this optimization result is on the attached Jupyter Notebook."
   ]
  },
  {
   "cell_type": "code",
   "execution_count": null,
   "metadata": {
    "id": "b0T3jyzxkpvL"
   },
   "outputs": [],
   "source": []
  }
 ],
 "metadata": {
  "colab": {
   "name": "Lab 7 Colab Section.ipynb",
   "provenance": []
  },
  "kernelspec": {
   "display_name": "Python 3",
   "language": "python",
   "name": "python3"
  },
  "language_info": {
   "codemirror_mode": {
    "name": "ipython",
    "version": 3
   },
   "file_extension": ".py",
   "mimetype": "text/x-python",
   "name": "python",
   "nbconvert_exporter": "python",
   "pygments_lexer": "ipython3",
   "version": "3.7.4"
  }
 },
 "nbformat": 4,
 "nbformat_minor": 1
}
